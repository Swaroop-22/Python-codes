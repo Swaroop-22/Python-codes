{
 "cells": [
  {
   "cell_type": "code",
   "execution_count": null,
   "metadata": {},
   "outputs": [
    {
     "name": "stdout",
     "output_type": "stream",
     "text": [
      "The state is: 25\n",
      "player 1 turns\n",
      "enter the blocks you want to remove :2\n",
      "illegal move\n",
      "enter the blocks you want to remove :1\n",
      "illegal move\n",
      "enter the blocks you want to remove :3\n",
      "illegal move\n",
      "enter the blocks you want to remove :5\n",
      "illegal move\n",
      "enter the blocks you want to remove :20\n",
      "illegal move\n"
     ]
    }
   ],
   "source": [
    "#set player\n",
    "player = 1\n",
    "\n",
    "# set the initial state\n",
    "state = 25\n",
    "print (\"The state is:\",state)\n",
    "\n",
    "while True:\n",
    "    print (\"player\", player,\"turns\")\n",
    "    while True:\n",
    "        # get valid move\n",
    "        move = input(\"enter the blocks you want to remove :\")\n",
    "        for move in range(1,3):\n",
    "            break\n",
    "        print('illegal move')\n",
    "\n",
    "    # update the status\n",
    "    state=state-move\n",
    "\n",
    "    # show the state\n",
    "    print (\"The number of blocks remaining\" , state)\n",
    "\n",
    "    # check the win status\n",
    "    if state ==1:\n",
    "        print ('player',player, 'wins')\n",
    "        break\n",
    "\n",
    "    # player swapping\n",
    "    if player == 1:\n",
    "        player =2\n",
    "    else:\n",
    "        player = 1\n",
    "print (\"Game is over:\")"
   ]
  },
  {
   "cell_type": "code",
   "execution_count": null,
   "metadata": {},
   "outputs": [],
   "source": []
  }
 ],
 "metadata": {
  "kernelspec": {
   "display_name": "Python 3",
   "language": "python",
   "name": "python3"
  },
  "language_info": {
   "codemirror_mode": {
    "name": "ipython",
    "version": 3
   },
   "file_extension": ".py",
   "mimetype": "text/x-python",
   "name": "python",
   "nbconvert_exporter": "python",
   "pygments_lexer": "ipython3",
   "version": "3.8.5"
  }
 },
 "nbformat": 4,
 "nbformat_minor": 2
}
