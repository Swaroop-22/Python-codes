{
 "cells": [
  {
   "cell_type": "markdown",
   "id": "b6dc8d99",
   "metadata": {},
   "source": [
    "# Loan Default Prediction Project"
   ]
  },
  {
   "cell_type": "markdown",
   "id": "92dc93c0",
   "metadata": {},
   "source": [
    "# Problem Statement\n",
    "\n",
    "* we have the problem statement to predict loan defaulter."
   ]
  },
  {
   "cell_type": "markdown",
   "id": "dc098aa7",
   "metadata": {},
   "source": [
    "## 1. Data Gathering\n",
    "   \n",
    "* we got the data from Client in csv format.\n",
    "* size around 12 lakh 18 thousand having memory size 110.7 mb \n"
   ]
  },
  {
   "cell_type": "raw",
   "id": "7e3cb60c",
   "metadata": {},
   "source": [
    "            NAME                                      DESCRIPTION\n",
    "\n",
    "EmploymentDurationCurrentEmployer\tEmployment time with the current employer\n",
    "\n",
    "CreditScoreEsEquifaxRisk\t        Generic score for the loan applicants that do not have active past due operations in \n",
    "                                    ASNEF; a measure of the probability of default one year ahead; the score is given on \n",
    "                                    a 6-grade scale: AAA (“Very low”), AA (“Low”), A (“Average”), B (“Average High”), \n",
    "                                    C (“High”), D (“Very High”).\n",
    "\n",
    "NextPaymentNr\t                    According to schedule the number of the next payment\n",
    "\n",
    "MaritalStatus\t                    1 Married 2 Cohabitant 3 Single 4 Divorced 5 Widow\n",
    "\n",
    "LanguageCode\t                    1 Estonian 2 English 3 Russian 4 Finnish 5 German 6 Spanish 9 Slovakian\n",
    "\n",
    "Interest\t                        Maximum interest rate accepted in the loan application\n",
    "\n",
    "DefaultDate\t                        The date when loan went into defaulted state and collection process was started\n",
    "\n",
    "LoanDate\t                        Date when the loan was issued\n",
    "\n",
    "PrincipalPaymentsMade\t            Note owner received loan transfers principal amount\n",
    "\n",
    "ContractEndDate\t                    The date  when the loan contract ended\n",
    "\n",
    "Gender\t                            0 Male 1 Woman 2 Undefined\n",
    "\n",
    "Amount\t                            The sum of the transaction\n",
    "\n",
    "IncomeTotal\t                        Borrower's total income\n",
    "\n",
    "PlannedInterestTillDate\t            According to active schedule the amount of interest the investment should have received\n",
    "\n",
    "LoanDuration\t                    Current loan duration in months\n",
    "\n",
    "VerificationType\t                Method used for loan application data verification 0 Not set 1 Income unverified \n",
    "                                    2 Income unverified, cross-referenced by phone 3 Income verified 4 Income and \n",
    "                                    expenses verified\n",
    "\n",
    "ActiveScheduleFirstPaymentReached\tWhether the first payment date has been reached according to the active schedule\n",
    "\n",
    "PreviousEarlyRepaymentsCountBefore\n",
    "Loan\t                             How many times the borrower had repaid early\n",
    "\n",
    "NoOfPreviousLoansBeforeLoan\t         Number of previous loans\n",
    "\n",
    "LiabilitiesTotal\t                 Total monthly liabilities\n",
    "\n",
    "Age\t                                 The age of the borrower when signing the loan application\n",
    "\n",
    "Education\t                         1 Primary education 2 Basic education 3 Vocational education 4 Secondary education \n",
    "                                     5 Higher education\n",
    "\n",
    "Status\t                             The current status of the loan application\n",
    "\n",
    "LoanNumber\t                         A unique number given to all loan applications\n",
    "\n",
    "HomeOwnershipType\t                 0 Homeless 1 Owner 2 Living with parents 3 Tenant, pre-furnished property 4 Tenant, \n",
    "                                     unfurnished property 5 Council house 6 Joint tenant 7 Joint ownership 8 Mortgage \n",
    "                                     9 Owner with encumbrance 10 Other\n",
    "\n",
    "AppliedAmount\t                     The amount borrower applied for originally\n",
    "\n",
    "loan_id\t                             A unique number given to all loan applications\n",
    "\n",
    " \n",
    "* we have the some of important features like CreditScore,Interest,AppliedAmount ,IncomeTotal,LoanDuration,\n",
    "  LiabilitiesTotal,Age etc.."
   ]
  },
  {
   "cell_type": "markdown",
   "id": "e339e9af",
   "metadata": {},
   "source": [
    "## 2. Data Preparation(EDA)\n",
    "\n",
    "  1. checking Correlation\n",
    "     * ckeckig multicollinearity: here we are checked correlation values of independent features and we \n",
    "       found there is no any strong correlation value between them.\n",
    "  \n",
    "  \n",
    "  2. checking imbalance dataset\n",
    "     * Dataset is balanced.\n",
    "  \n",
    "  \n",
    "  3. checking missing values\n",
    "     * there is missing values in features like \n",
    "       expected_return,\n",
    "       total_late_fees_repayment,                     \n",
    "       total_principal_repayment,                     \n",
    "       total_interest_repayment\n",
    "       \n",
    "  \n",
    "  4. checking data type\n",
    "     * there are\n",
    "       gender', 'marital_status', 'status', 'credit_score_ee_mini',\n",
    "       'language_code', 'employment_status', 'occupation_area',\n",
    "       'home_ownership_type', 'education',\n",
    "       'employment_duration_current_employer'\n",
    "        features which are object datatype.\n",
    "  \n",
    "  \n",
    "  5. checking outliers\n",
    "       \n",
    "  6. checking skewness(basically cheking normaility)\n"
   ]
  },
  {
   "cell_type": "markdown",
   "id": "f8c4d4fc",
   "metadata": {},
   "source": [
    "## 3. Data preprocessing\n",
    "\n",
    "#### 3.1. Feature Engineering\n",
    "   1. Encoding(obj to numeric)\n",
    "      * by lable Encoder we converted object to numeric datatype\n",
    "   \n",
    "   \n",
    "   2. fillna(imputaion)\n",
    "      * missing values of features filled by median bcoz both they are categorical features\n",
    "   \n",
    "   \n",
    "   3. handling imbalance dataset(sampling)\n",
    "   \n",
    "   \n",
    "   4. handling outliers\n",
    "      \n",
    "      \n",
    "   5. handling skewness of dataset(like by using log_transformation)\n",
    "     \n",
    "#### 3.2. Feature Scaling\n",
    "   1. Normalization\n",
    "      * bcoz we are also going to use distance based algorithm thats why we need to scaled our feature by using   normalization.\n",
    "   \n",
    "   \n",
    "   2. Standarization\n",
    "     \n",
    "####  3.3. Feature Selection\n",
    "   1. By checking co-relation values\n",
    "      * we checked co-relation values with target variable but no stronge co-relation values between \n",
    "        the independent variables and the target varible.\n",
    "      \n",
    "      \n",
    "   2. Lasso Regression\n",
    "   3. chi-square method\n",
    "   4. drop the feature which is having all unique values   \n",
    "      * 'loan_id','loan_number','user_name' having all unique values so no impact in model building so we droped that             feature\n",
    "     "
   ]
  },
  {
   "cell_type": "markdown",
   "id": "188b2503",
   "metadata": {},
   "source": [
    "## 4. Train Model\n",
    "\n",
    "1. Train multiple model with hyper paramtertunning.\n",
    "   * we tried in KNN Logistics Regression DT RF and Ada boost but we got best accuracy in random forest."
   ]
  },
  {
   "cell_type": "markdown",
   "id": "5cf0a6b1",
   "metadata": {},
   "source": [
    "## 5. Test Model(Evaluation)\n",
    "1. r2 score\n",
    "2. mse,rmse,amse\n",
    "3. confusion materix\n",
    "4. Accuracy score \n",
    "   * Accuracy score in,\n",
    "   * LR - 78.37\n",
    "   * KNN - 77.01 and after hyperparameter tunning 78.01\n",
    "   * DT - 95.72 and hyperparameter tunning 95.65\n",
    "   * RF - test acc 97.28 and train acc 100 and hyperparameter tunning test acc 96.56 and train acc 96.99\n",
    "   * Ada boost -96.74 and hyperparameter tunning 96.84\n",
    "5. classification report\n",
    "6. ROC-AUC curve\n",
    "    \n",
    "    "
   ]
  },
  {
   "cell_type": "markdown",
   "id": "12a2f18e",
   "metadata": {},
   "source": [
    "#### Handling Overfitting and Underfitting"
   ]
  },
  {
   "cell_type": "markdown",
   "id": "1e95c767",
   "metadata": {},
   "source": [
    "#### 1. Overfitting\n",
    "\n",
    "1. Use less Parameters(X1, X2, ... , Xn)\n",
    "2. Remove Outliers\n",
    "3. Regularization Technique\n",
    "4. Use Bagging, Boosting (DT) >> Bagging - Random Forest,Boosting - Ada Boost, XGBoosting,\n",
    "5. Increase Dataset\n",
    "6. Hyperparameter tunning \n",
    "7. Cross Validation Techniques"
   ]
  },
  {
   "cell_type": "markdown",
   "id": "4037a664",
   "metadata": {},
   "source": [
    "#### 2. Underfitting\n",
    "\n",
    "1. Use Powerful Model \n",
    "2. Add More Paramters (5 parameter >>> 8 parameter)\n",
    "3. Use Correlated features\n",
    "4. Remove Outliers\n",
    "5. Increase Dataset"
   ]
  },
  {
   "cell_type": "markdown",
   "id": "eedb6678",
   "metadata": {},
   "source": [
    "## 6. Model deployment"
   ]
  }
 ],
 "metadata": {
  "kernelspec": {
   "display_name": "Python 3 (ipykernel)",
   "language": "python",
   "name": "python3"
  },
  "language_info": {
   "codemirror_mode": {
    "name": "ipython",
    "version": 3
   },
   "file_extension": ".py",
   "mimetype": "text/x-python",
   "name": "python",
   "nbconvert_exporter": "python",
   "pygments_lexer": "ipython3",
   "version": "3.9.12"
  }
 },
 "nbformat": 4,
 "nbformat_minor": 5
}
